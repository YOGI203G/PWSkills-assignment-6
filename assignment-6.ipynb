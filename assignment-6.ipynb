{
 "cells": [
  {
   "cell_type": "markdown",
   "id": "3b9f906a-5653-411e-a7ff-5e2d628b3d7e",
   "metadata": {},
   "source": [
    "#QUS1\n",
    "\n",
    " Explain Class and Object with respect to Object-Oriented Programming. Give a suitable example"
   ]
  },
  {
   "cell_type": "markdown",
   "id": "5ab0c40e-f011-4e14-b1ea-f48f9da485bd",
   "metadata": {},
   "source": [
    "#CLASS\n",
    "\n",
    "A class is considered as a blueprint of objects. We can think of the class as a sketch (prototype) of a house. \n",
    "It contains all the details about the floors, doors, windows, etc. Based on these descriptions we build the house. House is the object.\n",
    "\n",
    "Since many houses can be made from the same description, we can create many objects from a class."
   ]
  },
  {
   "cell_type": "markdown",
   "id": "d2b4df12-80fc-4f76-8624-43bf858e3442",
   "metadata": {},
   "source": [
    "#OBJECT\n",
    "\n",
    "An object is called an instance of a class.\n",
    "\n"
   ]
  },
  {
   "cell_type": "code",
   "execution_count": 1,
   "id": "80863c5a-d7c4-4ca7-9817-df56b9218818",
   "metadata": {},
   "outputs": [],
   "source": [
    "#example\n",
    "\n",
    "#define a class\n",
    "\n",
    "class Bike:\n",
    "    name=\"\"\n",
    "    gear=0\n",
    "    "
   ]
  },
  {
   "cell_type": "code",
   "execution_count": 2,
   "id": "b0453dcf-ce05-4974-a642-29ca3ca2d38d",
   "metadata": {},
   "outputs": [],
   "source": [
    "#define a object\n",
    "\n",
    "bike1=Bike()"
   ]
  },
  {
   "cell_type": "markdown",
   "id": "04dfde87-0654-470c-b61c-76b948575b75",
   "metadata": {},
   "source": [
    "#QUS2\n",
    "\n",
    "Name the four pillars of OOPs."
   ]
  },
  {
   "cell_type": "markdown",
   "id": "a0f73a4e-ac9d-437b-baa3-03fea53c3aae",
   "metadata": {},
   "source": [
    "1.Inheritance\n",
    "2.Polymorphism\n",
    "3.Incapsulation\n",
    "4.Abstraction"
   ]
  },
  {
   "cell_type": "markdown",
   "id": "d9649e11-5f0a-414f-b536-3624887ed4af",
   "metadata": {},
   "source": [
    "#QUS3\n",
    "\n",
    " Explain why the __init__() function is used. Give a suitable example."
   ]
  },
  {
   "cell_type": "markdown",
   "id": "0867cee9-8355-4948-a3ec-e71a8b9720d4",
   "metadata": {},
   "source": [
    "The __init__ function is called every time an object is created from a class. \n",
    "The __init__ method lets the class initialize the object's attributes and serves no other purpose. \n",
    "It is only used within classes."
   ]
  },
  {
   "cell_type": "code",
   "execution_count": 18,
   "id": "6ba91208-5a79-476c-a6f9-4c78ea6ecb39",
   "metadata": {},
   "outputs": [],
   "source": [
    "#EXAMPLE\n",
    "\n",
    "class Person:\n",
    "    def __init__(self, name, age):\n",
    "        self.name = name\n",
    "        self.age = age"
   ]
  },
  {
   "cell_type": "code",
   "execution_count": 22,
   "id": "aefcb4a2-24e1-453a-9eac-fe3e8da1e3b0",
   "metadata": {},
   "outputs": [
    {
     "name": "stdout",
     "output_type": "stream",
     "text": [
      "yogi\n",
      "21\n"
     ]
    }
   ],
   "source": [
    "person = Person(\"yogi\", 21)\n",
    "print(person.name) \n",
    "print(person.age)"
   ]
  },
  {
   "cell_type": "markdown",
   "id": "4ed01e84-1b17-48a6-8872-e4f58e5fc2d0",
   "metadata": {},
   "source": [
    "#QUS4\n",
    "\n",
    "Why self is used in OOPs?"
   ]
  },
  {
   "cell_type": "markdown",
   "id": "3002158e-3669-4823-a5f0-06e8939e5efa",
   "metadata": {},
   "source": [
    "The self parameter is a reference to the current instance of the class, and is used to access variables that belongs to the class\n",
    "self represents the instance of the class. By using the “self”  we can access the attributes and methods of the class in python.\n",
    "It binds the attributes with the given arguments.\n",
    "\n",
    "The reason you need to use self. is because Python does not use the @ syntax to refer to instance attributes. \n",
    "Python decided to do methods in a way that makes the instance to which the method belongs be passed automatically, but not received automatically: \n",
    "the first parameter of methods is the instance the method is called on."
   ]
  },
  {
   "cell_type": "markdown",
   "id": "39df4e0c-2b7b-4e13-8a87-eeae944c76be",
   "metadata": {},
   "source": [
    "#QUS5\n",
    "\n",
    "What is inheritance? Give an example for each type of inheritance.\n"
   ]
  },
  {
   "cell_type": "markdown",
   "id": "210865dc-bc21-4bf3-9cfb-c11812ba1c50",
   "metadata": {},
   "source": [
    "Inheritance allows us to define a class that inherits all the methods and properties from another class. \n",
    "Parent class is the class being inherited from, also called base class. \n",
    "Child class is the class that inherits from another class, also called derived class."
   ]
  },
  {
   "cell_type": "markdown",
   "id": "2946c131-2416-4abb-8db6-5bfe0f05040c",
   "metadata": {},
   "source": [
    "There are five types of inheritances:\n",
    "* Single Inheritance.\n",
    "* Multiple Inheritance.\n",
    "* Multilevel Inheritance.\n",
    "* Hierarchical Inheritance.\n",
    "* Hybrid Inheritance."
   ]
  },
  {
   "cell_type": "markdown",
   "id": "55e98613-cf13-4fba-bf84-329afd95a5f9",
   "metadata": {},
   "source": [
    "SINGLE INHERITANCE-Single inheritance enables a derived class to inherit properties from a single parent class, thus enabling code reusability and the addition of new features to existing code."
   ]
  },
  {
   "cell_type": "code",
   "execution_count": 23,
   "id": "5f4010dc-c5c6-4909-b371-afa6549f4f50",
   "metadata": {},
   "outputs": [],
   "source": [
    "class Parent:\n",
    "    def func1(self):\n",
    "        print(\"This function is in parent class.\")\n",
    " \n"
   ]
  },
  {
   "cell_type": "code",
   "execution_count": 24,
   "id": "39ec46f9-259d-4455-9237-deca5c483eac",
   "metadata": {},
   "outputs": [],
   "source": [
    "class Child(Parent):\n",
    "    def func2(self):\n",
    "        print(\"This function is in child class.\")"
   ]
  },
  {
   "cell_type": "code",
   "execution_count": 25,
   "id": "42541ac1-f640-4057-8072-b95f0b0345a2",
   "metadata": {},
   "outputs": [
    {
     "name": "stdout",
     "output_type": "stream",
     "text": [
      "This function is in parent class.\n",
      "This function is in child class.\n"
     ]
    }
   ],
   "source": [
    "object = Child()\n",
    "object.func1()\n",
    "object.func2()"
   ]
  },
  {
   "cell_type": "markdown",
   "id": "8dd999eb-fcab-4a17-93cc-f33099f5af33",
   "metadata": {},
   "source": [
    "MULTIPLE INHERITANCE-When a class can be derived from more than one base class this type of inheritance is called multiple inheritances. \n",
    "In multiple inheritances, all the features of the base classes are inherited into the derived class. "
   ]
  },
  {
   "cell_type": "code",
   "execution_count": 26,
   "id": "87be1b4c-01fc-4d22-bad8-5664cc634d97",
   "metadata": {},
   "outputs": [],
   "source": [
    "class Mother:\n",
    "    mothername = \"\"\n",
    " \n",
    "    def mother(self):\n",
    "        print(self.mothername)"
   ]
  },
  {
   "cell_type": "code",
   "execution_count": 27,
   "id": "d0193c94-0f93-43ba-9998-47002f5cce89",
   "metadata": {},
   "outputs": [],
   "source": [
    "class Father:\n",
    "    fathername = \"\"\n",
    " \n",
    "    def father(self):\n",
    "        print(self.fathername)"
   ]
  },
  {
   "cell_type": "code",
   "execution_count": 28,
   "id": "a3263796-4bcb-43fa-a5d4-07c82aeb6985",
   "metadata": {},
   "outputs": [],
   "source": [
    "class Son(Mother, Father):\n",
    "    def parents(self):\n",
    "        print(\"Father :\", self.fathername)\n",
    "        print(\"Mother :\", self.mothername)"
   ]
  },
  {
   "cell_type": "code",
   "execution_count": 30,
   "id": "8f8d5753-4f24-44f2-a4c5-d397840ad1f2",
   "metadata": {},
   "outputs": [
    {
     "name": "stdout",
     "output_type": "stream",
     "text": [
      "Father : RAKESH KUMAR\n",
      "Mother : GUDDI DEVI\n"
     ]
    }
   ],
   "source": [
    "s1 = Son()\n",
    "s1.fathername = \"RAKESH KUMAR\"\n",
    "s1.mothername = \"GUDDI DEVI\"\n",
    "s1.parents()"
   ]
  },
  {
   "cell_type": "markdown",
   "id": "ea47639d-9ad3-4afb-a56e-cb9e14ec4261",
   "metadata": {},
   "source": [
    "MULTILEVEL INHERITANCE-In multilevel inheritance, features of the base class and the derived class are further inherited into the new derived class. \n",
    " "
   ]
  },
  {
   "cell_type": "code",
   "execution_count": 1,
   "id": "663d7d5e-fcef-43d8-97ef-cda63375a225",
   "metadata": {},
   "outputs": [],
   "source": [
    "class Grandfather:\n",
    " \n",
    "    def __init__(self, grandfathername):\n",
    "        self.grandfathername = grandfathername"
   ]
  },
  {
   "cell_type": "code",
   "execution_count": 2,
   "id": "921b7155-d1bf-4aac-b4e3-3a080315412a",
   "metadata": {},
   "outputs": [],
   "source": [
    "class Father(Grandfather):\n",
    "    def __init__(self, fathername, grandfathername):\n",
    "        self.fathername = fathername\n",
    "        Grandfather.__init__(self, grandfathername)"
   ]
  },
  {
   "cell_type": "code",
   "execution_count": 3,
   "id": "c5375c13-7446-4939-a483-8eeeba654a73",
   "metadata": {},
   "outputs": [],
   "source": [
    "class Son(Father):\n",
    "    def __init__(self, sonname, fathername, grandfathername):\n",
    "        self.sonname = sonname\n",
    "        Father.__init__(self, fathername, grandfathername)\n",
    " \n",
    "    def print_name(self):\n",
    "        print('Grandfather name :', self.grandfathername)\n",
    "        print(\"Father name :\", self.fathername)\n",
    "        print(\"Son name :\", self.sonname)"
   ]
  },
  {
   "cell_type": "code",
   "execution_count": 5,
   "id": "a1699ecb-c308-4eb0-9731-38b333f0463f",
   "metadata": {},
   "outputs": [
    {
     "name": "stdout",
     "output_type": "stream",
     "text": [
      "gyan singh\n",
      "Grandfather name : gyan singh\n",
      "Father name : Rakesh kumar\n",
      "Son name : Yogendra kumar\n"
     ]
    }
   ],
   "source": [
    "s1 = Son('Yogendra kumar', 'Rakesh kumar', 'gyan singh')\n",
    "print(s1.grandfathername)\n",
    "s1.print_name()"
   ]
  },
  {
   "cell_type": "markdown",
   "id": "c5d14151-b7d1-45b2-a917-90bf34431713",
   "metadata": {},
   "source": [
    "HIERARCHICAL INHERITANCE-When more than one derived class are created from a single base this type of inheritance is called hierarchical inheritance. \n",
    "In this program, we have a parent (base) class and two child (derived) classes."
   ]
  },
  {
   "cell_type": "code",
   "execution_count": 6,
   "id": "718e4596-cecc-494f-9772-12a09d7a9472",
   "metadata": {},
   "outputs": [],
   "source": [
    "class Parent:\n",
    "    def func1(self):\n",
    "        print(\"This function is in parent class.\")"
   ]
  },
  {
   "cell_type": "code",
   "execution_count": 7,
   "id": "90de2ad1-9aa0-490c-9dfd-2b4b8690d998",
   "metadata": {},
   "outputs": [],
   "source": [
    "class Child1(Parent):\n",
    "    def func2(self):\n",
    "        print(\"This function is in child 1.\")"
   ]
  },
  {
   "cell_type": "code",
   "execution_count": 8,
   "id": "2ea0e12e-9166-45e6-9158-e5e2274df494",
   "metadata": {},
   "outputs": [],
   "source": [
    "class Child2(Parent):\n",
    "    def func3(self):\n",
    "        print(\"This function is in child 2.\")"
   ]
  },
  {
   "cell_type": "code",
   "execution_count": 9,
   "id": "789f4264-47c6-455e-a035-222cfa493ea9",
   "metadata": {},
   "outputs": [
    {
     "name": "stdout",
     "output_type": "stream",
     "text": [
      "This function is in parent class.\n",
      "This function is in child 1.\n",
      "This function is in parent class.\n",
      "This function is in child 2.\n"
     ]
    }
   ],
   "source": [
    "object1 = Child1()\n",
    "object2 = Child2()\n",
    "object1.func1()\n",
    "object1.func2()\n",
    "object2.func1()\n",
    "object2.func3()"
   ]
  },
  {
   "cell_type": "markdown",
   "id": "43f50478-f20d-4285-b23a-7ef80a324402",
   "metadata": {},
   "source": [
    "HYBRID INHERITANCE-Inheritance consisting of multiple types of inheritance is called hybrid inheritance."
   ]
  },
  {
   "cell_type": "code",
   "execution_count": 10,
   "id": "3af0f91b-43c4-44fc-a836-d0142b4d08e9",
   "metadata": {},
   "outputs": [],
   "source": [
    "class School:\n",
    "    def func1(self):\n",
    "        print(\"This function is in school.\")"
   ]
  },
  {
   "cell_type": "code",
   "execution_count": 11,
   "id": "558ab47a-ca85-4380-906b-1e9871b4842a",
   "metadata": {},
   "outputs": [],
   "source": [
    "class Student1(School):\n",
    "    def func2(self):\n",
    "        print(\"This function is in student 1. \")\n",
    " "
   ]
  },
  {
   "cell_type": "code",
   "execution_count": 12,
   "id": "40a2a74d-9674-47e4-a4c3-2c78c30f7b77",
   "metadata": {},
   "outputs": [],
   "source": [
    "class Student2(School):\n",
    "    def func3(self):\n",
    "        print(\"This function is in student 2.\")"
   ]
  },
  {
   "cell_type": "code",
   "execution_count": 13,
   "id": "40a9409e-592a-4bff-b87e-7d2964eea0f7",
   "metadata": {},
   "outputs": [],
   "source": [
    "class Student3(Student1, School):\n",
    "    def func4(self):\n",
    "        print(\"This function is in student 3.\")"
   ]
  },
  {
   "cell_type": "code",
   "execution_count": 16,
   "id": "b2cfb1b8-6bed-4573-9a77-545942bcb2d9",
   "metadata": {},
   "outputs": [
    {
     "name": "stdout",
     "output_type": "stream",
     "text": [
      "This function is in school.\n",
      "This function is in student 1. \n"
     ]
    }
   ],
   "source": [
    "object = Student3()\n",
    "object.func1()\n",
    "object.func2()"
   ]
  }
 ],
 "metadata": {
  "kernelspec": {
   "display_name": "Python 3 (ipykernel)",
   "language": "python",
   "name": "python3"
  },
  "language_info": {
   "codemirror_mode": {
    "name": "ipython",
    "version": 3
   },
   "file_extension": ".py",
   "mimetype": "text/x-python",
   "name": "python",
   "nbconvert_exporter": "python",
   "pygments_lexer": "ipython3",
   "version": "3.10.8"
  }
 },
 "nbformat": 4,
 "nbformat_minor": 5
}
